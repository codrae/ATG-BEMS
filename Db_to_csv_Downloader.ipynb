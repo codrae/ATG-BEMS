{
  "nbformat": 4,
  "nbformat_minor": 0,
  "metadata": {
    "colab": {
      "provenance": [],
      "authorship_tag": "ABX9TyNfhMihX1Rv+Gax//aNj2tL",
      "include_colab_link": true
    },
    "kernelspec": {
      "name": "python3",
      "display_name": "Python 3"
    },
    "language_info": {
      "name": "python"
    }
  },
  "cells": [
    {
      "cell_type": "markdown",
      "metadata": {
        "id": "view-in-github",
        "colab_type": "text"
      },
      "source": [
        "<a href=\"https://colab.research.google.com/github/codrae/ATG-BEMS/blob/main/Db_to_csv_Downloader.ipynb\" target=\"_parent\"><img src=\"https://colab.research.google.com/assets/colab-badge.svg\" alt=\"Open In Colab\"/></a>"
      ]
    },
    {
      "cell_type": "code",
      "source": [
        "# pyodbc 라이브러리 설치\n",
        "# pyodbc는 Python에서 ODBC(Open Database Connectivity)를 통해 다양한 데이터베이스에 연결할 수 있도록 해주는 라이브러리입니다.\n",
        "# 이 라이브러리는 Microsoft SQL Server, MySQL, PostgreSQL 등 여러 데이터베이스에 대한 ODBC 연결을 지원합니다.\n",
        "# 설치 후, ODBC 드라이버를 사용하여 데이터베이스 연결과 쿼리 실행이 가능합니다.\n",
        "!pip install pyodbc"
      ],
      "metadata": {
        "colab": {
          "base_uri": "https://localhost:8080/"
        },
        "id": "ciNHjW9WpVSa",
        "outputId": "d93f9dec-14a2-4d77-ea8d-7396edabe60b"
      },
      "execution_count": 99,
      "outputs": [
        {
          "output_type": "stream",
          "name": "stdout",
          "text": [
            "Requirement already satisfied: pyodbc in /usr/local/lib/python3.10/dist-packages (5.1.0)\n"
          ]
        }
      ]
    },
    {
      "cell_type": "code",
      "source": [
        "%%sh\n",
        "# unixodbc-dev 설치\n",
        "apt-get install -y unixodbc-dev\n",
        "\n",
        "# Microsoft GPG 키를 다운로드하고 /etc/apt/trusted.gpg.d/에 저장\n",
        "curl https://packages.microsoft.com/keys/microsoft.asc | gpg --dearmor > /etc/apt/trusted.gpg.d/microsoft.gpg\n",
        "\n",
        "# Ubuntu 버전에 맞는 Microsoft SQL Server 패키지 저장소 추가\n",
        "curl https://packages.microsoft.com/config/ubuntu/$(lsb_release -rs)/prod.list > /etc/apt/sources.list.d/mssql-release.list\n",
        "\n",
        "# 패키지 리스트 업데이트\n",
        "apt-get update\n",
        "\n",
        "# Microsoft ODBC Driver 17 for SQL Server 설치\n",
        "ACCEPT_EULA=Y apt-get -q -y install msodbcsql17"
      ],
      "metadata": {
        "colab": {
          "base_uri": "https://localhost:8080/"
        },
        "id": "7jiy7HvJsNmc",
        "outputId": "b4fb2c1f-8aa8-4b70-bba9-0dbb5c760f49"
      },
      "execution_count": 100,
      "outputs": [
        {
          "output_type": "stream",
          "name": "stdout",
          "text": [
            "Reading package lists...\n",
            "Building dependency tree...\n",
            "Reading state information...\n",
            "unixodbc-dev is already the newest version (2.3.9-5ubuntu0.1).\n",
            "0 upgraded, 0 newly installed, 0 to remove and 50 not upgraded.\n",
            "Hit:1 http://security.ubuntu.com/ubuntu jammy-security InRelease\n",
            "Hit:2 http://archive.ubuntu.com/ubuntu jammy InRelease\n",
            "Hit:3 http://archive.ubuntu.com/ubuntu jammy-updates InRelease\n",
            "Hit:4 http://archive.ubuntu.com/ubuntu jammy-backports InRelease\n",
            "Hit:5 https://cloud.r-project.org/bin/linux/ubuntu jammy-cran40/ InRelease\n",
            "Hit:6 https://developer.download.nvidia.com/compute/cuda/repos/ubuntu2204/x86_64  InRelease\n",
            "Hit:7 https://packages.microsoft.com/ubuntu/22.04/prod jammy InRelease\n",
            "Ign:8 https://r2u.stat.illinois.edu/ubuntu jammy InRelease\n",
            "Hit:9 https://r2u.stat.illinois.edu/ubuntu jammy Release\n",
            "Hit:10 https://ppa.launchpadcontent.net/deadsnakes/ppa/ubuntu jammy InRelease\n",
            "Hit:11 https://ppa.launchpadcontent.net/graphics-drivers/ppa/ubuntu jammy InRelease\n",
            "Hit:12 https://ppa.launchpadcontent.net/ubuntugis/ppa/ubuntu jammy InRelease\n",
            "Reading package lists...\n",
            "Reading package lists...\n",
            "Building dependency tree...\n",
            "Reading state information...\n",
            "msodbcsql17 is already the newest version (17.10.6.1-1).\n",
            "0 upgraded, 0 newly installed, 0 to remove and 50 not upgraded.\n"
          ]
        },
        {
          "output_type": "stream",
          "name": "stderr",
          "text": [
            "  % Total    % Received % Xferd  Average Speed   Time    Time     Time  Current\n",
            "                                 Dload  Upload   Total   Spent    Left  Speed\n",
            "\r  0     0    0     0    0     0      0      0 --:--:-- --:--:-- --:--:--     0\r100   983  100   983    0     0   2589      0 --:--:-- --:--:-- --:--:--  2593\n",
            "  % Total    % Received % Xferd  Average Speed   Time    Time     Time  Current\n",
            "                                 Dload  Upload   Total   Spent    Left  Speed\n",
            "\r  0     0    0     0    0     0      0      0 --:--:-- --:--:-- --:--:--     0\r  0     0    0     0    0     0      0      0 --:--:-- --:--:-- --:--:--     0\r100    88  100    88    0     0    305      0 --:--:-- --:--:-- --:--:--   304\n",
            "W: Skipping acquire of configured file 'main/source/Sources' as repository 'https://r2u.stat.illinois.edu/ubuntu jammy InRelease' does not seem to provide it (sources.list entry misspelt?)\n"
          ]
        }
      ]
    },
    {
      "cell_type": "code",
      "source": [
        "import pyodbc\n",
        "\n",
        "# 설치된 ODBC 드라이버 목록을 가져와 리스트로 저장\n",
        "# pyodbc.drivers()는 시스템에 설치된 모든 ODBC 드라이버의 이름을 반환합니다.\n",
        "drivers = [driver for driver in pyodbc.drivers()]\n",
        "\n",
        "# 사용 가능한 ODBC 드라이버 목록 출력\n",
        "print(drivers)"
      ],
      "metadata": {
        "colab": {
          "base_uri": "https://localhost:8080/"
        },
        "id": "XRhsI3exsQSp",
        "outputId": "5f9ed225-f7e7-4a4d-8e5e-bfb30c9d9e4f"
      },
      "execution_count": 104,
      "outputs": [
        {
          "output_type": "stream",
          "name": "stdout",
          "text": [
            "['ODBC Driver 17 for SQL Server']\n"
          ]
        }
      ]
    },
    {
      "cell_type": "code",
      "source": [
        "# MSSQL 서버 연결 설정\n",
        "server =   # MSSQL 서버 IP 주소\n",
        "port =             # 서버 포트 번호\n",
        "database =           # 데이터베이스 이름\n",
        "username =       # MSSQL 서버 사용자 이름\n",
        "password =     # MSSQL 서버 사용자 비밀번호\n",
        "driver =   # 사용하는 ODBC 드라이버\n",
        "\n",
        "# 연결 문자열 생성\n",
        "# 서버 정보, 데이터베이스 이름, 사용자 인증 정보 등을 포함한 연결 문자열을 생성\n",
        "conn_str = f'DRIVER={driver};SERVER={server},{port};DATABASE={database};UID={username};PWD={password}'\n",
        "\n",
        "# pyodbc.connect()로 MSSQL 서버에 연결\n",
        "connection = pyodbc.connect(conn_str)\n",
        "\n",
        "# 커서 생성\n",
        "cursor = connection.cursor()\n",
        "\n",
        "# SQL 쿼리 실행\n",
        "query  = \"SELECT DataValue, TimeStamp, DateTime FROM Tech_All_KWH WHERE Building = '*' ORDER BY DateTime\"\n",
        "\n",
        "# 쿼리 실행 후 결과 가져오기\n",
        "cursor.execute(query)\n",
        "rows = cursor.fetchall()  # 모든 행을 fetch\n",
        "\n",
        "# 결과 중 상위 5개의 행을 출력\n",
        "for i in range(5):\n",
        "    print(rows[i])\n",
        "\n",
        "# 최적화 측면에서의 추가 작업은 필요하지 않음.\n",
        "# 데이터 가져오는 방식은 효율적이고, 반복문은 필요한 만큼만 사용되었음."
      ],
      "metadata": {
        "colab": {
          "base_uri": "https://localhost:8080/"
        },
        "id": "9lMI0dEosTHv",
        "outputId": "00ce20f1-e378-4028-9ffe-c426475b430d"
      },
      "execution_count": 136,
      "outputs": [
        {
          "output_type": "stream",
          "name": "stdout",
          "text": [
            "(31666079.0, 1713846000, datetime.datetime(2024, 4, 23, 13, 20))\n",
            "(31666159.0, 1713846600, datetime.datetime(2024, 4, 23, 13, 30))\n",
            "(31666242.0, 1713847200, datetime.datetime(2024, 4, 23, 13, 40))\n",
            "(31666324.0, 1713847800, datetime.datetime(2024, 4, 23, 13, 50))\n",
            "(31666407.0, 1713848400, datetime.datetime(2024, 4, 23, 14, 0))\n"
          ]
        }
      ]
    },
    {
      "cell_type": "code",
      "source": [
        "import pandas as pd\n",
        "import datetime\n",
        "\n",
        "# 데이터 리스트를 pandas DataFrame으로 변환\n",
        "# 'rows' 리스트의 각 요소가 리스트 형태로 변환된 후 DataFrame으로 만들어짐\n",
        "# 각 열은 'Building', 'DataValue', 'TimeStamp', 'DateTime'으로 정의\n",
        "df = pd.DataFrame([list(row) for row in rows], columns=['DataValue', 'TimeStamp', 'DateTime'])\n",
        "\n",
        "# DateTime 컬럼을 datetime 형식으로 변환\n",
        "# 이 단계에서는 'DateTime' 열을 pandas의 datetime 객체로 변환하여 날짜/시간 데이터로 처리 가능하게 함\n",
        "df['DateTime'] = pd.to_datetime(df['DateTime'])\n",
        "\n",
        "# DataFrame의 처음 5개 행을 출력하여 결과 확인\n",
        "df.head()"
      ],
      "metadata": {
        "colab": {
          "base_uri": "https://localhost:8080/",
          "height": 206
        },
        "id": "nqDDPNBNtfRK",
        "outputId": "3d7650e8-f73b-4af5-ad35-d6822443c709"
      },
      "execution_count": 137,
      "outputs": [
        {
          "output_type": "execute_result",
          "data": {
            "text/plain": [
              "    DataValue   TimeStamp            DateTime\n",
              "0  31666079.0  1713846000 2024-04-23 13:20:00\n",
              "1  31666159.0  1713846600 2024-04-23 13:30:00\n",
              "2  31666242.0  1713847200 2024-04-23 13:40:00\n",
              "3  31666324.0  1713847800 2024-04-23 13:50:00\n",
              "4  31666407.0  1713848400 2024-04-23 14:00:00"
            ],
            "text/html": [
              "\n",
              "  <div id=\"df-71c414d2-cda9-43b8-97b4-7fc710065086\" class=\"colab-df-container\">\n",
              "    <div>\n",
              "<style scoped>\n",
              "    .dataframe tbody tr th:only-of-type {\n",
              "        vertical-align: middle;\n",
              "    }\n",
              "\n",
              "    .dataframe tbody tr th {\n",
              "        vertical-align: top;\n",
              "    }\n",
              "\n",
              "    .dataframe thead th {\n",
              "        text-align: right;\n",
              "    }\n",
              "</style>\n",
              "<table border=\"1\" class=\"dataframe\">\n",
              "  <thead>\n",
              "    <tr style=\"text-align: right;\">\n",
              "      <th></th>\n",
              "      <th>DataValue</th>\n",
              "      <th>TimeStamp</th>\n",
              "      <th>DateTime</th>\n",
              "    </tr>\n",
              "  </thead>\n",
              "  <tbody>\n",
              "    <tr>\n",
              "      <th>0</th>\n",
              "      <td>31666079.0</td>\n",
              "      <td>1713846000</td>\n",
              "      <td>2024-04-23 13:20:00</td>\n",
              "    </tr>\n",
              "    <tr>\n",
              "      <th>1</th>\n",
              "      <td>31666159.0</td>\n",
              "      <td>1713846600</td>\n",
              "      <td>2024-04-23 13:30:00</td>\n",
              "    </tr>\n",
              "    <tr>\n",
              "      <th>2</th>\n",
              "      <td>31666242.0</td>\n",
              "      <td>1713847200</td>\n",
              "      <td>2024-04-23 13:40:00</td>\n",
              "    </tr>\n",
              "    <tr>\n",
              "      <th>3</th>\n",
              "      <td>31666324.0</td>\n",
              "      <td>1713847800</td>\n",
              "      <td>2024-04-23 13:50:00</td>\n",
              "    </tr>\n",
              "    <tr>\n",
              "      <th>4</th>\n",
              "      <td>31666407.0</td>\n",
              "      <td>1713848400</td>\n",
              "      <td>2024-04-23 14:00:00</td>\n",
              "    </tr>\n",
              "  </tbody>\n",
              "</table>\n",
              "</div>\n",
              "    <div class=\"colab-df-buttons\">\n",
              "\n",
              "  <div class=\"colab-df-container\">\n",
              "    <button class=\"colab-df-convert\" onclick=\"convertToInteractive('df-71c414d2-cda9-43b8-97b4-7fc710065086')\"\n",
              "            title=\"Convert this dataframe to an interactive table.\"\n",
              "            style=\"display:none;\">\n",
              "\n",
              "  <svg xmlns=\"http://www.w3.org/2000/svg\" height=\"24px\" viewBox=\"0 -960 960 960\">\n",
              "    <path d=\"M120-120v-720h720v720H120Zm60-500h600v-160H180v160Zm220 220h160v-160H400v160Zm0 220h160v-160H400v160ZM180-400h160v-160H180v160Zm440 0h160v-160H620v160ZM180-180h160v-160H180v160Zm440 0h160v-160H620v160Z\"/>\n",
              "  </svg>\n",
              "    </button>\n",
              "\n",
              "  <style>\n",
              "    .colab-df-container {\n",
              "      display:flex;\n",
              "      gap: 12px;\n",
              "    }\n",
              "\n",
              "    .colab-df-convert {\n",
              "      background-color: #E8F0FE;\n",
              "      border: none;\n",
              "      border-radius: 50%;\n",
              "      cursor: pointer;\n",
              "      display: none;\n",
              "      fill: #1967D2;\n",
              "      height: 32px;\n",
              "      padding: 0 0 0 0;\n",
              "      width: 32px;\n",
              "    }\n",
              "\n",
              "    .colab-df-convert:hover {\n",
              "      background-color: #E2EBFA;\n",
              "      box-shadow: 0px 1px 2px rgba(60, 64, 67, 0.3), 0px 1px 3px 1px rgba(60, 64, 67, 0.15);\n",
              "      fill: #174EA6;\n",
              "    }\n",
              "\n",
              "    .colab-df-buttons div {\n",
              "      margin-bottom: 4px;\n",
              "    }\n",
              "\n",
              "    [theme=dark] .colab-df-convert {\n",
              "      background-color: #3B4455;\n",
              "      fill: #D2E3FC;\n",
              "    }\n",
              "\n",
              "    [theme=dark] .colab-df-convert:hover {\n",
              "      background-color: #434B5C;\n",
              "      box-shadow: 0px 1px 3px 1px rgba(0, 0, 0, 0.15);\n",
              "      filter: drop-shadow(0px 1px 2px rgba(0, 0, 0, 0.3));\n",
              "      fill: #FFFFFF;\n",
              "    }\n",
              "  </style>\n",
              "\n",
              "    <script>\n",
              "      const buttonEl =\n",
              "        document.querySelector('#df-71c414d2-cda9-43b8-97b4-7fc710065086 button.colab-df-convert');\n",
              "      buttonEl.style.display =\n",
              "        google.colab.kernel.accessAllowed ? 'block' : 'none';\n",
              "\n",
              "      async function convertToInteractive(key) {\n",
              "        const element = document.querySelector('#df-71c414d2-cda9-43b8-97b4-7fc710065086');\n",
              "        const dataTable =\n",
              "          await google.colab.kernel.invokeFunction('convertToInteractive',\n",
              "                                                    [key], {});\n",
              "        if (!dataTable) return;\n",
              "\n",
              "        const docLinkHtml = 'Like what you see? Visit the ' +\n",
              "          '<a target=\"_blank\" href=https://colab.research.google.com/notebooks/data_table.ipynb>data table notebook</a>'\n",
              "          + ' to learn more about interactive tables.';\n",
              "        element.innerHTML = '';\n",
              "        dataTable['output_type'] = 'display_data';\n",
              "        await google.colab.output.renderOutput(dataTable, element);\n",
              "        const docLink = document.createElement('div');\n",
              "        docLink.innerHTML = docLinkHtml;\n",
              "        element.appendChild(docLink);\n",
              "      }\n",
              "    </script>\n",
              "  </div>\n",
              "\n",
              "\n",
              "<div id=\"df-9848b797-4924-4865-8e23-0a4278d2ea10\">\n",
              "  <button class=\"colab-df-quickchart\" onclick=\"quickchart('df-9848b797-4924-4865-8e23-0a4278d2ea10')\"\n",
              "            title=\"Suggest charts\"\n",
              "            style=\"display:none;\">\n",
              "\n",
              "<svg xmlns=\"http://www.w3.org/2000/svg\" height=\"24px\"viewBox=\"0 0 24 24\"\n",
              "     width=\"24px\">\n",
              "    <g>\n",
              "        <path d=\"M19 3H5c-1.1 0-2 .9-2 2v14c0 1.1.9 2 2 2h14c1.1 0 2-.9 2-2V5c0-1.1-.9-2-2-2zM9 17H7v-7h2v7zm4 0h-2V7h2v10zm4 0h-2v-4h2v4z\"/>\n",
              "    </g>\n",
              "</svg>\n",
              "  </button>\n",
              "\n",
              "<style>\n",
              "  .colab-df-quickchart {\n",
              "      --bg-color: #E8F0FE;\n",
              "      --fill-color: #1967D2;\n",
              "      --hover-bg-color: #E2EBFA;\n",
              "      --hover-fill-color: #174EA6;\n",
              "      --disabled-fill-color: #AAA;\n",
              "      --disabled-bg-color: #DDD;\n",
              "  }\n",
              "\n",
              "  [theme=dark] .colab-df-quickchart {\n",
              "      --bg-color: #3B4455;\n",
              "      --fill-color: #D2E3FC;\n",
              "      --hover-bg-color: #434B5C;\n",
              "      --hover-fill-color: #FFFFFF;\n",
              "      --disabled-bg-color: #3B4455;\n",
              "      --disabled-fill-color: #666;\n",
              "  }\n",
              "\n",
              "  .colab-df-quickchart {\n",
              "    background-color: var(--bg-color);\n",
              "    border: none;\n",
              "    border-radius: 50%;\n",
              "    cursor: pointer;\n",
              "    display: none;\n",
              "    fill: var(--fill-color);\n",
              "    height: 32px;\n",
              "    padding: 0;\n",
              "    width: 32px;\n",
              "  }\n",
              "\n",
              "  .colab-df-quickchart:hover {\n",
              "    background-color: var(--hover-bg-color);\n",
              "    box-shadow: 0 1px 2px rgba(60, 64, 67, 0.3), 0 1px 3px 1px rgba(60, 64, 67, 0.15);\n",
              "    fill: var(--button-hover-fill-color);\n",
              "  }\n",
              "\n",
              "  .colab-df-quickchart-complete:disabled,\n",
              "  .colab-df-quickchart-complete:disabled:hover {\n",
              "    background-color: var(--disabled-bg-color);\n",
              "    fill: var(--disabled-fill-color);\n",
              "    box-shadow: none;\n",
              "  }\n",
              "\n",
              "  .colab-df-spinner {\n",
              "    border: 2px solid var(--fill-color);\n",
              "    border-color: transparent;\n",
              "    border-bottom-color: var(--fill-color);\n",
              "    animation:\n",
              "      spin 1s steps(1) infinite;\n",
              "  }\n",
              "\n",
              "  @keyframes spin {\n",
              "    0% {\n",
              "      border-color: transparent;\n",
              "      border-bottom-color: var(--fill-color);\n",
              "      border-left-color: var(--fill-color);\n",
              "    }\n",
              "    20% {\n",
              "      border-color: transparent;\n",
              "      border-left-color: var(--fill-color);\n",
              "      border-top-color: var(--fill-color);\n",
              "    }\n",
              "    30% {\n",
              "      border-color: transparent;\n",
              "      border-left-color: var(--fill-color);\n",
              "      border-top-color: var(--fill-color);\n",
              "      border-right-color: var(--fill-color);\n",
              "    }\n",
              "    40% {\n",
              "      border-color: transparent;\n",
              "      border-right-color: var(--fill-color);\n",
              "      border-top-color: var(--fill-color);\n",
              "    }\n",
              "    60% {\n",
              "      border-color: transparent;\n",
              "      border-right-color: var(--fill-color);\n",
              "    }\n",
              "    80% {\n",
              "      border-color: transparent;\n",
              "      border-right-color: var(--fill-color);\n",
              "      border-bottom-color: var(--fill-color);\n",
              "    }\n",
              "    90% {\n",
              "      border-color: transparent;\n",
              "      border-bottom-color: var(--fill-color);\n",
              "    }\n",
              "  }\n",
              "</style>\n",
              "\n",
              "  <script>\n",
              "    async function quickchart(key) {\n",
              "      const quickchartButtonEl =\n",
              "        document.querySelector('#' + key + ' button');\n",
              "      quickchartButtonEl.disabled = true;  // To prevent multiple clicks.\n",
              "      quickchartButtonEl.classList.add('colab-df-spinner');\n",
              "      try {\n",
              "        const charts = await google.colab.kernel.invokeFunction(\n",
              "            'suggestCharts', [key], {});\n",
              "      } catch (error) {\n",
              "        console.error('Error during call to suggestCharts:', error);\n",
              "      }\n",
              "      quickchartButtonEl.classList.remove('colab-df-spinner');\n",
              "      quickchartButtonEl.classList.add('colab-df-quickchart-complete');\n",
              "    }\n",
              "    (() => {\n",
              "      let quickchartButtonEl =\n",
              "        document.querySelector('#df-9848b797-4924-4865-8e23-0a4278d2ea10 button');\n",
              "      quickchartButtonEl.style.display =\n",
              "        google.colab.kernel.accessAllowed ? 'block' : 'none';\n",
              "    })();\n",
              "  </script>\n",
              "</div>\n",
              "\n",
              "    </div>\n",
              "  </div>\n"
            ],
            "application/vnd.google.colaboratory.intrinsic+json": {
              "type": "dataframe",
              "variable_name": "df",
              "summary": "{\n  \"name\": \"df\",\n  \"rows\": 22419,\n  \"fields\": [\n    {\n      \"column\": \"DataValue\",\n      \"properties\": {\n        \"dtype\": \"number\",\n        \"std\": 778987.434532812,\n        \"min\": 0.0,\n        \"max\": 33448140.0,\n        \"num_unique_values\": 22412,\n        \"samples\": [\n          33292450.0,\n          33299174.0,\n          32899848.0\n        ],\n        \"semantic_type\": \"\",\n        \"description\": \"\"\n      }\n    },\n    {\n      \"column\": \"TimeStamp\",\n      \"properties\": {\n        \"dtype\": \"number\",\n        \"std\": 3892665,\n        \"min\": 1713846000,\n        \"max\": 1727330400,\n        \"num_unique_values\": 22419,\n        \"samples\": [\n          1718681400,\n          1726170000,\n          1726615200\n        ],\n        \"semantic_type\": \"\",\n        \"description\": \"\"\n      }\n    },\n    {\n      \"column\": \"DateTime\",\n      \"properties\": {\n        \"dtype\": \"date\",\n        \"min\": \"2024-04-23 13:20:00\",\n        \"max\": \"2024-09-26 15:00:00\",\n        \"num_unique_values\": 22419,\n        \"samples\": [\n          \"2024-06-18 12:30:00\",\n          \"2024-09-13 04:40:00\",\n          \"2024-09-18 08:20:00\"\n        ],\n        \"semantic_type\": \"\",\n        \"description\": \"\"\n      }\n    }\n  ]\n}"
            }
          },
          "metadata": {},
          "execution_count": 137
        }
      ]
    },
    {
      "cell_type": "code",
      "source": [
        "# 함수로 정의\n",
        "def analyze_dataframe(df):\n",
        "    import pandas as pd\n",
        "    import matplotlib.pyplot as plt\n",
        "    import numpy as np\n",
        "    from scipy.stats import zscore\n",
        "\n",
        "    # 결측치 확인\n",
        "    missing_values = df.isnull().sum()\n",
        "\n",
        "    # Z-score를 사용한 이상치 확인\n",
        "    df['zscore'] = zscore(df['DataValue'])\n",
        "    outliers_zscore = df[df['zscore'].abs() > 3]\n",
        "\n",
        "    # DataValue가 0인 값 확인\n",
        "    zero_values = df[df['DataValue'] == 0]\n",
        "\n",
        "    # 전체 시각화\n",
        "    plt.figure(figsize=(10, 6))\n",
        "    plt.plot(df['DateTime'], df['DataValue'], marker='o', label='DataValue')\n",
        "    plt.title('DataValue Trend Over Time')\n",
        "    plt.xlabel('DateTime')\n",
        "    plt.ylabel('DataValue')\n",
        "    plt.grid(True)\n",
        "    plt.xticks(rotation=45)\n",
        "    plt.tight_layout()\n",
        "    plt.show()\n",
        "\n",
        "    # 각 결과를 한 줄로 출력\n",
        "    print(f\"결측치 개수: {missing_values}\")\n",
        "    print(f\"이상치 개수 (Z-score > 3): {outliers_zscore.shape[0]}\")\n",
        "    print(f\"DataValue가 0인 값 개수: {zero_values.shape[0]}\")\n",
        "\n",
        "    df = df.drop(columns=['zscore'], errors='ignore')\n",
        "\n",
        " # 누락된 데이터포인트 구간을 찾아서 출력\n",
        "    previous_time = None\n",
        "    for current_time in df['DateTime']:\n",
        "        if previous_time is not None:\n",
        "            time_diff_minutes = (current_time - previous_time).total_seconds() / 60\n",
        "            if time_diff_minutes > 10:\n",
        "                missing_points = (time_diff_minutes // 10) - 1\n",
        "                print(f\"누락된 구간: {previous_time.strftime('%Y-%m-%d %H:%M')} ~ {current_time.strftime('%H:%M')}, 누락된 데이터포인트: {int(missing_points)}개\")\n",
        "        previous_time = current_time\n",
        "\n"
      ],
      "metadata": {
        "id": "NvGwERkTuRRI"
      },
      "execution_count": 132,
      "outputs": []
    },
    {
      "cell_type": "code",
      "source": [
        "analyze_dataframe(df)"
      ],
      "metadata": {
        "colab": {
          "base_uri": "https://localhost:8080/",
          "height": 735
        },
        "id": "cZZ1UblOxpbk",
        "outputId": "78f9f484-020f-44ca-fd51-34a8e33ef269"
      },
      "execution_count": 127,
      "outputs": [
        {
          "output_type": "display_data",
          "data": {
            "text/plain": [
              "<Figure size 1000x600 with 1 Axes>"
            ],
            "image/png": "[encoded data removed]"
          },
          "metadata": {}
        },
        {
          "output_type": "stream",
          "name": "stdout",
          "text": [
            "결측치 개수: DataValue    0\n",
            "TimeStamp    0\n",
            "DateTime     0\n",
            "dtype: int64\n",
            "이상치 개수 (Z-score > 3): 7\n",
            "DataValue가 0인 값 개수: 7\n",
            "누락된 구간: 2024-08-25 08:00 ~ 17:30, 누락된 데이터포인트: 56개\n"
          ]
        }
      ]
    },
    {
      "cell_type": "markdown",
      "source": [
        "2024-08-25 08:00 ~ 17:30 분까지의 데이터가 사라졌음을 확인. (인덱스 없음) <br>\n",
        "08:00 값 정상 /\n",
        "17:30 0 value /\n",
        "그 사이: 행 자체가 없음 <br>\n",
        "이상치와 0value가 동일함을 확인. (7개)\n"
      ],
      "metadata": {
        "id": "bauXXNXmwBx6"
      }
    },
    {
      "cell_type": "code",
      "source": [
        "def fill_missing_rows(df):\n",
        "    # 데이터프레임을 datetime 기준으로 정렬\n",
        "    df = df.sort_values(by='DateTime').reset_index(drop=True)\n",
        "\n",
        "    # 시작 시간과 끝 시간을 설정\n",
        "    start_time = df['DateTime'].min()\n",
        "    end_time = df['DateTime'].max()\n",
        "\n",
        "    # 10분 간격으로 모든 시간을 생성\n",
        "    full_time_range = pd.date_range(start=start_time, end=end_time, freq='10T')\n",
        "\n",
        "    # 새로운 행을 담을 리스트 생성\n",
        "    new_rows = []\n",
        "\n",
        "    for time in full_time_range:\n",
        "        if not ((df['DateTime'] == time).any()):\n",
        "            # 10분 단위로 존재하지 않는 시간에는 새로운 행 추가\n",
        "            new_row = {\n",
        "                'DataValue': 0,\n",
        "                'TimeStamp': int(time.timestamp()),  # Unix 타임스탬프 생성\n",
        "                'DateTime': time\n",
        "            }\n",
        "            new_rows.append(new_row)\n",
        "\n",
        "    # 새로운 행들을 데이터프레임으로 변환\n",
        "    new_rows_df = pd.DataFrame(new_rows)\n",
        "\n",
        "    # 원래의 데이터프레임과 새로 생성한 행들을 합침\n",
        "    df_full = pd.concat([df, new_rows_df]).sort_values(by='DateTime').reset_index(drop=True)\n",
        "\n",
        "    return df_full"
      ],
      "metadata": {
        "id": "X_tzP9FKy4qW"
      },
      "execution_count": 128,
      "outputs": []
    },
    {
      "cell_type": "markdown",
      "source": [
        "비어있던 구간이 맞게 채워졌는지 확인"
      ],
      "metadata": {
        "id": "n9tCmPbM-tDU"
      }
    },
    {
      "cell_type": "code",
      "source": [
        "df_filled = fill_missing_rows(df)\n",
        "analyze_dataframe(df_filled)"
      ],
      "metadata": {
        "colab": {
          "base_uri": "https://localhost:8080/",
          "height": 735
        },
        "id": "-vRlw7NYyj__",
        "outputId": "5b31df5d-1709-4214-b353-16dd7a7cce93"
      },
      "execution_count": 129,
      "outputs": [
        {
          "output_type": "display_data",
          "data": {
            "text/plain": [
              "<Figure size 1000x600 with 1 Axes>"
            ],
            "image/png": "[encoded data removed]"
          },
          "metadata": {}
        },
        {
          "output_type": "stream",
          "name": "stdout",
          "text": [
            "결측치 개수: DataValue     0\n",
            "TimeStamp     0\n",
            "DateTime      0\n",
            "zscore       56\n",
            "dtype: int64\n",
            "이상치 개수 (Z-score > 3): 63\n",
            "DataValue가 0인 값 개수: 63\n"
          ]
        }
      ]
    },
    {
      "cell_type": "markdown",
      "source": [
        "결측치 및 이상치 모두 값 채워넣어주기 (선형보간법 사용) <br>\n",
        "최종 DataSet모양 관찰"
      ],
      "metadata": {
        "id": "wpZCGgU0-jXg"
      }
    },
    {
      "cell_type": "code",
      "source": [
        "import numpy as np\n",
        "df = df_filled\n",
        "# DataValue가 0인 부분을 선형보간법으로 채우기\n",
        "df['DataValue'] = df['DataValue'].replace(0, np.nan)  # 0값을 NaN으로 변환\n",
        "df['DataValue'] = df['DataValue'].interpolate(method='linear')  # 선형 보간법으로 채우기\n",
        "df['DataValue'] = df['DataValue'].astype(int)\n",
        "\n",
        "# 결과 출력\n",
        "analyze_dataframe(df)"
      ],
      "metadata": {
        "colab": {
          "base_uri": "https://localhost:8080/",
          "height": 735
        },
        "id": "eEaL2bnIzacJ",
        "outputId": "aa9cfda3-2cde-4071-9ec9-652491ef7d80"
      },
      "execution_count": 133,
      "outputs": [
        {
          "output_type": "display_data",
          "data": {
            "text/plain": [
              "<Figure size 1000x600 with 1 Axes>"
            ],
            "image/png": "[encoded data removed]"
          },
          "metadata": {}
        },
        {
          "output_type": "stream",
          "name": "stdout",
          "text": [
            "결측치 개수: DataValue    0\n",
            "TimeStamp    0\n",
            "DateTime     0\n",
            "zscore       0\n",
            "dtype: int64\n",
            "이상치 개수 (Z-score > 3): 0\n",
            "DataValue가 0인 값 개수: 0\n"
          ]
        }
      ]
    },
    {
      "cell_type": "markdown",
      "source": [
        "편의성을 위한 설정. (zscore column 삭제 및 datetime으로 index설정)"
      ],
      "metadata": {
        "id": "rcPgkzaY-dc_"
      }
    },
    {
      "cell_type": "code",
      "source": [
        "# zscore column이 있다면 삭제\n",
        "df = df.drop(columns=['zscore'], errors='ignore')\n",
        "\n",
        "# DateTime을 index로 설정\n",
        "df.set_index('DateTime', inplace=True)"
      ],
      "metadata": {
        "colab": {
          "base_uri": "https://localhost:8080/",
          "height": 35
        },
        "id": "NxX4Zmog4FJ8",
        "outputId": "11d94875-8d25-4850-fa0b-2a4e9a73de31"
      },
      "execution_count": 135,
      "outputs": [
        {
          "output_type": "display_data",
          "data": {
            "text/plain": [
              "<IPython.core.display.Javascript object>"
            ],
            "application/javascript": [
              "\n",
              "    async function download(id, filename, size) {\n",
              "      if (!google.colab.kernel.accessAllowed) {\n",
              "        return;\n",
              "      }\n",
              "      const div = document.createElement('div');\n",
              "      const label = document.createElement('label');\n",
              "      label.textContent = `Downloading \"${filename}\": `;\n",
              "      div.appendChild(label);\n",
              "      const progress = document.createElement('progress');\n",
              "      progress.max = size;\n",
              "      div.appendChild(progress);\n",
              "      document.body.appendChild(div);\n",
              "\n",
              "      const buffers = [];\n",
              "      let downloaded = 0;\n",
              "\n",
              "      const channel = await google.colab.kernel.comms.open(id);\n",
              "      // Send a message to notify the kernel that we're ready.\n",
              "      channel.send({})\n",
              "\n",
              "      for await (const message of channel.messages) {\n",
              "        // Send a message to notify the kernel that we're ready.\n",
              "        channel.send({})\n",
              "        if (message.buffers) {\n",
              "          for (const buffer of message.buffers) {\n",
              "            buffers.push(buffer);\n",
              "            downloaded += buffer.byteLength;\n",
              "            progress.value = downloaded;\n",
              "          }\n",
              "        }\n",
              "      }\n",
              "      const blob = new Blob(buffers, {type: 'application/binary'});\n",
              "      const a = document.createElement('a');\n",
              "      a.href = window.URL.createObjectURL(blob);\n",
              "      a.download = filename;\n",
              "      div.appendChild(a);\n",
              "      a.click();\n",
              "      div.remove();\n",
              "    }\n",
              "  "
            ]
          },
          "metadata": {}
        },
        {
          "output_type": "display_data",
          "data": {
            "text/plain": [
              "<IPython.core.display.Javascript object>"
            ],
            "application/javascript": [
              "download(\"download_fe72ed0c-9bdb-47d8-8aba-653f947ce923\", \"2024-04-23_13:20~2024-09-26_14:50_***_processed.csv\", 898989)"
            ]
          },
          "metadata": {}
        },
        {
          "output_type": "stream",
          "name": "stdout",
          "text": [
            "CSV 파일 저장됨: 2024-04-23_13:20~2024-09-26_14:50_***_processed.csv\n"
          ]
        }
      ]
    },
    {
      "cell_type": "markdown",
      "source": [
        "파일 저장하기 (로컬 다운로드)"
      ],
      "metadata": {
        "id": "ERWAUB2J-Ti_"
      }
    },
    {
      "cell_type": "code",
      "source": [
        "from google.colab import files\n",
        "# index의 시작값과 끝값을 문자열로 변환하여 파일명 생성\n",
        "start_date = df.index.min().strftime('%Y-%m-%d_%H:%M')\n",
        "end_date = df.index.max().strftime('%Y-%m-%d_%H:%M')\n",
        "filename = f'{start_date}~{end_date}_***_processed.csv'\n",
        "\n",
        "# 파일 저장\n",
        "df.to_csv(filename)\n",
        "files.download(filename)\n",
        "# 파일명 출력\n",
        "print(f\"CSV 파일 저장됨: {filename}\")\n"
      ],
      "metadata": {
        "id": "mjhcEjUf-RCr"
      },
      "execution_count": null,
      "outputs": []
    },
    {
      "cell_type": "markdown",
      "source": [
        "DB 서버와 연결 종료"
      ],
      "metadata": {
        "id": "574yg7XT-Wr8"
      }
    },
    {
      "cell_type": "code",
      "source": [
        "# 연결 종료\n",
        "cursor.close()"
      ],
      "metadata": {
        "id": "cnPCbL2WsWRn"
      },
      "execution_count": 114,
      "outputs": []
    }
  ]
}